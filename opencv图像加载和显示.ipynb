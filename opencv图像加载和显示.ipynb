{
 "cells": [
  {
   "cell_type": "code",
   "execution_count": null,
   "id": "cc193d55",
   "metadata": {},
   "outputs": [],
   "source": [
    "#opencv导包 叫做cv2\n",
    "import cv2"
   ]
  },
  {
   "cell_type": "code",
   "execution_count": null,
   "id": "1c75f301",
   "metadata": {},
   "outputs": [],
   "source": [
    "#创建窗口\n",
    "cv2.namedWindow('window',cv2.WINDOW_AUTOSIZE)\n",
    "#展示名字为window的窗口\n",
    "cv2.imshow('new',0)\n",
    "cv.wa"
   ]
  }
 ],
 "metadata": {
  "kernelspec": {
   "display_name": "Python 3 (ipykernel)",
   "language": "python",
   "name": "python3"
  },
  "language_info": {
   "codemirror_mode": {
    "name": "ipython",
    "version": 3
   },
   "file_extension": ".py",
   "mimetype": "text/x-python",
   "name": "python",
   "nbconvert_exporter": "python",
   "pygments_lexer": "ipython3",
   "version": "3.8.10"
  }
 },
 "nbformat": 4,
 "nbformat_minor": 5
}
